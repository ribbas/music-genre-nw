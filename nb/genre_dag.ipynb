{
 "cells": [
  {
   "cell_type": "code",
   "execution_count": null,
   "metadata": {},
   "outputs": [],
   "source": [
    "from math import log10\n",
    "import os\n",
    "\n",
    "import networkx as nx\n",
    "from networkx.drawing.nx_agraph import graphviz_layout\n",
    "import plotly.plotly as py\n",
    "import plotly.graph_objs as go\n",
    "\n",
    "from context import data"
   ]
  },
  {
   "cell_type": "code",
   "execution_count": null,
   "metadata": {},
   "outputs": [],
   "source": [
    "G = nx.DiGraph()\n",
    "G.add_nodes_from(data[\"nodes\"])\n",
    "G.add_edges_from(data[\"edges\"])\n",
    "\n",
    "pos = graphviz_layout(G, prog=\"dot\")"
   ]
  },
  {
   "cell_type": "code",
   "execution_count": null,
   "metadata": {
    "scrolled": false
   },
   "outputs": [],
   "source": [
    "edge_trace = go.Scatter(\n",
    "    x=[],\n",
    "    y=[],\n",
    "    line=dict(width=0.5, color='#888'),\n",
    "    hoverinfo='none',\n",
    "    mode='lines')\n",
    "\n",
    "for edge in G.edges():\n",
    "    x0, y0 = pos[edge[0]]\n",
    "    x1, y1 = pos[edge[1]]\n",
    "    edge_trace['x'] += [x0, x1, None]\n",
    "    edge_trace['y'] += [y0, y1, None]\n",
    "\n",
    "node_trace = go.Scatter(\n",
    "    x=[],\n",
    "    y=[],\n",
    "    text=[],\n",
    "    mode='markers',\n",
    "    hoverinfo='text',\n",
    "    marker=dict(\n",
    "        showscale=True,\n",
    "        colorscale='YIOrRd',\n",
    "        reversescale=True,\n",
    "        color=[],\n",
    "        size=15,\n",
    "        colorbar=dict(\n",
    "            thickness=12,\n",
    "            title='Subgenres',\n",
    "            titleside='right',\n",
    "            xanchor='left',\n",
    "            tickvals=[0.0, 1.0],\n",
    "            ticktext=['External', '0'],\n",
    "            ticks='outside'\n",
    "        ),\n",
    "        line=dict(width=2)\n",
    "    )\n",
    ")\n",
    "\n",
    "for node in G.nodes():\n",
    "    x, y = pos[node]\n",
    "    node_trace['x'].append(x)\n",
    "    node_trace['y'].append(y)\n",
    "\n",
    "keys = data[\"subgenres\"].keys()\n",
    "for node in G.adjacency():\n",
    "    num_children = 0\n",
    "    children = []\n",
    "    if node[0] in keys:\n",
    "        num_children = data[\"subgenres\"][node[0]][\"num_children\"]\n",
    "        children = data[\"subgenres\"][node[0]][\"children\"]\n",
    "        node_trace['marker']['color'].append(log10(num_children + 1) * 10 + 10)\n",
    "    else:\n",
    "        node_trace['marker']['color'].append(0)\n",
    "    node_info = node[0].title() + \"<br>\" + str(num_children) + \" subgenres\"\n",
    "    if 0 < num_children < 20:\n",
    "        node_info += \"<br> + \"\n",
    "        node_info += \"<br> + \".join(sorted(children))\n",
    "    node_trace['text'].append(node_info)\n",
    "\n",
    "fig = go.Figure(\n",
    "    data=[edge_trace, node_trace],\n",
    "    layout=go.Layout(\n",
    "        title='<br>Music Genre Network Graph',\n",
    "        titlefont=dict(size=16),\n",
    "        showlegend=False,\n",
    "        hovermode='closest',\n",
    "        margin=dict(b=20, l=5, r=5, t=40),\n",
    "        xaxis=dict(showgrid=False, zeroline=False, showticklabels=False),\n",
    "        yaxis=dict(showgrid=False, zeroline=False, showticklabels=False)\n",
    "    )\n",
    ")\n"
   ]
  }
 ],
 "metadata": {
  "kernelspec": {
   "display_name": "Python 2",
   "language": "python",
   "name": "python2"
  },
  "language_info": {
   "codemirror_mode": {
    "name": "ipython",
    "version": 2
   },
   "file_extension": ".py",
   "mimetype": "text/x-python",
   "name": "python",
   "nbconvert_exporter": "python",
   "pygments_lexer": "ipython2",
   "version": "2.7.12"
  }
 },
 "nbformat": 4,
 "nbformat_minor": 2
}
