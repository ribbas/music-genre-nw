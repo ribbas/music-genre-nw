{
 "cells": [
  {
   "cell_type": "code",
   "execution_count": 1,
   "metadata": {},
   "outputs": [],
   "source": [
    "import networkx as nx\n",
    "import plotly.plotly as py\n",
    "import plotly.graph_objs as go\n",
    "\n",
    "import os\n",
    "\n",
    "from context import data"
   ]
  },
  {
   "cell_type": "code",
   "execution_count": 2,
   "metadata": {},
   "outputs": [],
   "source": [
    "G = nx.DiGraph()\n",
    "G.add_nodes_from(data[\"nodes\"])\n",
    "G.add_edges_from(data[\"edges\"])\n",
    "\n",
    "pos=nx.spring_layout(G)\n",
    "\n",
    "dmin=1\n",
    "ncenter=0\n",
    "for n in pos:\n",
    "    x,y=pos[n]\n",
    "    d=(x-0.5)**2+(y-0.5)**2\n",
    "    if d<dmin:\n",
    "        ncenter=n\n",
    "        dmin=d\n",
    "\n",
    "# p=nx.single_source_shortest_path_length(G, ncenter)"
   ]
  },
  {
   "cell_type": "code",
   "execution_count": 3,
   "metadata": {
    "scrolled": false
   },
   "outputs": [],
   "source": [
    "edge_trace = go.Scatter(\n",
    "    x=[],\n",
    "    y=[],\n",
    "    line=dict(width=0.5,color='#888'),\n",
    "    hoverinfo='none',\n",
    "    mode='lines')\n",
    "\n",
    "for edge in G.edges():\n",
    "    x0, y0 = pos[edge[0]]\n",
    "    x1, y1 = pos[edge[1]]\n",
    "    edge_trace['x'] += [x0, x1, None]\n",
    "    edge_trace['y'] += [y0, y1, None]\n",
    "\n",
    "node_trace = go.Scatter(\n",
    "    x=[],\n",
    "    y=[],\n",
    "    text=[],\n",
    "    mode='markers',\n",
    "    hoverinfo='text',\n",
    "    marker=dict(\n",
    "        showscale=True,\n",
    "        # colorscale options\n",
    "        # 'Greys' | 'Greens' | 'Bluered' | 'Hot' | 'Picnic' | 'Portland' |\n",
    "        # Jet' | 'RdBu' | 'Blackbody' | 'Earth' | 'Electric' | 'YIOrRd' | 'YIGnBu'\n",
    "        colorscale='YIOrRd',\n",
    "        reversescale=True,\n",
    "        color=[],\n",
    "        size=12,\n",
    "        colorbar=dict(\n",
    "            thickness=15,\n",
    "            title='Subgenres',\n",
    "            titleside = 'right',\n",
    "            xanchor='left',\n",
    "            tickvals = [0,20],\n",
    "            ticktext = ['External','0'],\n",
    "            ticks = 'outside'\n",
    "        ),\n",
    "        line=dict(width=2)\n",
    "    )\n",
    ")\n",
    "\n",
    "for node in G.nodes():\n",
    "    x, y = pos[node]\n",
    "    node_trace['x'].append(x)\n",
    "    node_trace['y'].append(y)\n",
    "\n",
    "keys = data[\"subgenres\"].keys()\n",
    "for node in G.adjacency():\n",
    "    if node[0] in keys:\n",
    "        children = data[\"subgenres\"][node[0]][\"children\"]\n",
    "        node_trace['marker']['color'].append(children + 20)\n",
    "    else:\n",
    "        node_trace['marker']['color'].append(0)\n",
    "    node_info = node[0].title()\n",
    "    node_trace['text'].append(node_info)\n",
    "\n",
    "fig = go.Figure(\n",
    "    data=[edge_trace, node_trace],\n",
    "     layout=go.Layout(\n",
    "        title='<br>Heavy Metal Subgenre Network Graph',\n",
    "        titlefont=dict(size=16),\n",
    "        showlegend=False,\n",
    "        hovermode='closest',\n",
    "        margin=dict(b=20,l=5,r=5,t=40),\n",
    "        xaxis=dict(showgrid=False, zeroline=False, showticklabels=False),\n",
    "        yaxis=dict(showgrid=False, zeroline=False, showticklabels=False)\n",
    "     )\n",
    ")\n"
   ]
  },
  {
   "cell_type": "code",
   "execution_count": null,
   "metadata": {},
   "outputs": [],
   "source": []
  }
 ],
 "metadata": {
  "kernelspec": {
   "display_name": "Python 2",
   "language": "python",
   "name": "python2"
  },
  "language_info": {
   "codemirror_mode": {
    "name": "ipython",
    "version": 2
   },
   "file_extension": ".py",
   "mimetype": "text/x-python",
   "name": "python",
   "nbconvert_exporter": "python",
   "pygments_lexer": "ipython2",
   "version": "2.7.12"
  }
 },
 "nbformat": 4,
 "nbformat_minor": 2
}
