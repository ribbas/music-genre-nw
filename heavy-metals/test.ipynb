{
 "cells": [
  {
   "cell_type": "code",
   "execution_count": 11,
   "metadata": {},
   "outputs": [],
   "source": [
    "import plotly.plotly as py\n",
    "import plotly.graph_objs as go\n",
    "\n",
    "import networkx as nx\n",
    "\n",
    "G=nx.Graph()\n",
    "G.add_nodes_from(range(10))\n",
    "G.add_edge(1,2)\n",
    "G.add_edge(1,9)\n",
    "G.add_edge(2,9)\n",
    "\n",
    "pos={0: [0.3728828290000229, 0.631185929031473],\n",
    " 1: [0.031711662899957416, 0.5144077658006544],\n",
    " 2: [0.4223629491473898, 0.2772714848837097],\n",
    " 3: [0.8099867473296122, 0.5846844418044275],\n",
    " 4: [0.373598815328247, 0.8134750691682606],\n",
    " 5: [0.6763722581559364, 0.31180402652783346],\n",
    " 6: [0.08131103800327544, 0.2019635391270732],\n",
    " 7: [0.30566436475888603, 0.04538855784690565],\n",
    " 8: [0.49360314911411984, 0.6918074083605193],\n",
    " 9: [0.8989756014440825, 0.32932787023482957]}\n",
    "\n",
    "for n, p in pos.iteritems():\n",
    "    G.node[n]['pos'] = p\n",
    "\n",
    "dmin=1\n",
    "ncenter=0\n",
    "for n in pos:\n",
    "    x,y=pos[n]\n",
    "    d=(x-0.5)**2+(y-0.5)**2\n",
    "    if d<dmin:\n",
    "        ncenter=n\n",
    "        dmin=d\n",
    "\n",
    "p=nx.single_source_shortest_path_length(G,ncenter)"
   ]
  },
  {
   "cell_type": "code",
   "execution_count": 15,
   "metadata": {
    "scrolled": false
   },
   "outputs": [
    {
     "name": "stdout",
     "output_type": "stream",
     "text": [
      "(1, 9) [0.031711662899957416, 0.5144077658006544] [0.8989756014440825, 0.32932787023482957]\n",
      "(1, 2) [0.031711662899957416, 0.5144077658006544] [0.4223629491473898, 0.2772714848837097]\n",
      "(2, 9) [0.4223629491473898, 0.2772714848837097] [0.8989756014440825, 0.32932787023482957]\n"
     ]
    }
   ],
   "source": [
    "edge_trace = go.Scatter(\n",
    "    x=[],\n",
    "    y=[],\n",
    "    line=dict(width=0.5,color='#888'),\n",
    "    hoverinfo='none',\n",
    "    mode='lines')\n",
    "\n",
    "for edge in G.edges():\n",
    "    print edge, G.node[edge[0]]['pos'], G.node[edge[1]]['pos']\n",
    "    x0, y0 = G.node[edge[0]]['pos']\n",
    "    x1, y1 = G.node[edge[1]]['pos']\n",
    "    edge_trace['x'] += [x0, x1, None]\n",
    "    edge_trace['y'] += [y0, y1, None]\n",
    "\n",
    "node_trace = go.Scatter(\n",
    "    x=[],\n",
    "    y=[],\n",
    "    text=[],\n",
    "    mode='markers',\n",
    "    hoverinfo='text',\n",
    "    marker=dict(\n",
    "        showscale=True,\n",
    "        # colorscale options\n",
    "        # 'Greys' | 'Greens' | 'Bluered' | 'Hot' | 'Picnic' | 'Portland' |\n",
    "        # Jet' | 'RdBu' | 'Blackbody' | 'Earth' | 'Electric' | 'YIOrRd' | 'YIGnBu'\n",
    "        colorscale='YIGnBu',\n",
    "        reversescale=True,\n",
    "        color=[],\n",
    "        size=50,\n",
    "        colorbar=dict(\n",
    "            thickness=15,\n",
    "            title='Node Connections',\n",
    "            xanchor='left',\n",
    "            titleside='right'\n",
    "        ),\n",
    "        line=dict(width=2)))\n",
    "\n",
    "for node in G.nodes():\n",
    "    x, y = G.node[node]['pos']\n",
    "    node_trace['x'].append(x)\n",
    "    node_trace['y'].append(y)"
   ]
  },
  {
   "cell_type": "code",
   "execution_count": 18,
   "metadata": {},
   "outputs": [
    {
     "name": "stdout",
     "output_type": "stream",
     "text": [
      "0\n",
      "1\n",
      "2\n",
      "3\n",
      "4\n",
      "5\n",
      "6\n",
      "7\n",
      "8\n",
      "9\n"
     ]
    }
   ],
   "source": [
    "for node, adjacencies in enumerate(G.adjacency()):\n",
    "    print node\n",
    "    node_trace['marker']['color'].append(len(adjacencies))\n",
    "    node_info = '# of connections: '+str(len(adjacencies))\n",
    "    node_trace['text'].append(node)"
   ]
  },
  {
   "cell_type": "code",
   "execution_count": 17,
   "metadata": {},
   "outputs": [
    {
     "data": {
      "text/html": [
       "<iframe id=\"igraph\" scrolling=\"no\" style=\"border:none;\" seamless=\"seamless\" src=\"https://plot.ly/~sabbirahm3d/88.embed\" height=\"525px\" width=\"100%\"></iframe>"
      ],
      "text/plain": [
       "<plotly.tools.PlotlyDisplay object>"
      ]
     },
     "execution_count": 17,
     "metadata": {},
     "output_type": "execute_result"
    }
   ],
   "source": [
    "fig = go.Figure(data=[edge_trace, node_trace],\n",
    "             layout=go.Layout(\n",
    "                title='<br>Network graph made with Python',\n",
    "                titlefont=dict(size=16),\n",
    "                showlegend=False,\n",
    "                hovermode='closest',\n",
    "                margin=dict(b=20,l=5,r=5,t=40),\n",
    "                annotations=[ dict(\n",
    "                    text=\"Python code: <a href='https://plot.ly/ipython-notebooks/network-graphs/'> https://plot.ly/ipython-notebooks/network-graphs/</a>\",\n",
    "                    showarrow=False,\n",
    "                    xref=\"paper\", yref=\"paper\",\n",
    "                    x=0.005, y=-0.002 ) ],\n",
    "                xaxis=dict(showgrid=False, zeroline=False, showticklabels=False),\n",
    "                yaxis=dict(showgrid=False, zeroline=False, showticklabels=False)))\n",
    "\n",
    "py.iplot(fig, filename='networkx')"
   ]
  },
  {
   "cell_type": "code",
   "execution_count": null,
   "metadata": {},
   "outputs": [],
   "source": []
  }
 ],
 "metadata": {
  "kernelspec": {
   "display_name": "Python 2",
   "language": "python",
   "name": "python2"
  },
  "language_info": {
   "codemirror_mode": {
    "name": "ipython",
    "version": 2
   },
   "file_extension": ".py",
   "mimetype": "text/x-python",
   "name": "python",
   "nbconvert_exporter": "python",
   "pygments_lexer": "ipython2",
   "version": "2.7.12"
  }
 },
 "nbformat": 4,
 "nbformat_minor": 2
}
